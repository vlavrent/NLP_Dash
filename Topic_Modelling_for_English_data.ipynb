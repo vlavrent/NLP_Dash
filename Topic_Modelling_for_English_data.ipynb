{
  "nbformat": 4,
  "nbformat_minor": 0,
  "metadata": {
    "colab": {
      "provenance": [],
      "authorship_tag": "ABX9TyOtFXRIviKeOu6j8acQT1Dq",
      "include_colab_link": true
    },
    "kernelspec": {
      "name": "python3",
      "display_name": "Python 3"
    },
    "language_info": {
      "name": "python"
    }
  },
  "cells": [
    {
      "cell_type": "markdown",
      "metadata": {
        "id": "view-in-github",
        "colab_type": "text"
      },
      "source": [
        "<a href=\"https://colab.research.google.com/github/vlavrent/NLP_Dash/blob/main/Topic_Modelling_for_English_data.ipynb\" target=\"_parent\"><img src=\"https://colab.research.google.com/assets/colab-badge.svg\" alt=\"Open In Colab\"/></a>"
      ]
    },
    {
      "cell_type": "code",
      "execution_count": null,
      "metadata": {
        "id": "UT9BpOJoFdQ4"
      },
      "outputs": [],
      "source": [
        "%%capture\n",
        "!pip install bertopic"
      ]
    },
    {
      "cell_type": "code",
      "source": [
        "import pandas as pd\n",
        "import numpy as np\n",
        "import re\n",
        "from sklearn.preprocessing import LabelEncoder\n",
        "from google.colab import drive\n",
        "drive.mount('/content/drive')"
      ],
      "metadata": {
        "colab": {
          "base_uri": "https://localhost:8080/"
        },
        "id": "-RzoJwDvHpL6",
        "outputId": "03c5cfdf-e15b-4e58-e354-df2af85f3f46"
      },
      "execution_count": null,
      "outputs": [
        {
          "output_type": "stream",
          "name": "stdout",
          "text": [
            "Drive already mounted at /content/drive; to attempt to forcibly remount, call drive.mount(\"/content/drive\", force_remount=True).\n"
          ]
        }
      ]
    },
    {
      "cell_type": "code",
      "source": [
        "\n",
        "class English_Preprocess():\n",
        "    def __init__(self,data_path,comment_col,normalised_col):\n",
        "        self.path = data_path\n",
        "        self.data = pd.read_csv(self.path,index_col=0)\n",
        "        self.col = comment_col\n",
        "        self.norm_col = normalised_col\n",
        "\n",
        "\n",
        "    # Read data\n",
        "    def read_data(self):\n",
        "        return pd.read_csv(self.path,index_col=0)\n",
        "\n",
        "    # Remove emoji\n",
        "    def remove_emojis(self,text):\n",
        "      emoji_pattern = re.compile(\n",
        "        \"[\"\n",
        "        \"\\U0001F600-\\U0001F64F\"  # emoticons\n",
        "        \"\\U0001F300-\\U0001F5FF\"  # symbols & pictographs\n",
        "        \"\\U0001F680-\\U0001F6FF\"  # transport & map symbols\n",
        "        \"\\U0001F1E0-\\U0001F1FF\"  # flags (iOS)\n",
        "        \"\\U00002702-\\U000027B0\"\n",
        "        \"\\U000024C2-\\U0001F251\"\n",
        "        \"]+\", flags=re.UNICODE)\n",
        "\n",
        "      return emoji_pattern.sub(r'', text)\n",
        "\n",
        "    # Remove emoji per row\n",
        "    def convert_emoji(self):\n",
        "        self.data[self.norm_col] = self.data[self.norm_col].apply(lambda x:  self.remove_emojis(x))\n",
        "        self.data = self.data.reset_index()\n",
        "\n",
        "    # Remove null rows\n",
        "    def remove_null(self):\n",
        "        self.data = self.data[self.data[self.col]!='\\\\N']\n",
        "        self.data = self.data.dropna()\n",
        "\n",
        "    # Add space between numbers and text\n",
        "    def create_number_string_space(self):\n",
        "        self.data[self.norm_col] = self.data[self.norm_col].apply(lambda x: re.sub('\\d{5,}', r' ', x))\n",
        "        self.data[self.norm_col] = self.data[self.norm_col].apply(lambda x: re.sub('i x e', r' ', x))\n",
        "        self.data[self.norm_col] = self.data[self.norm_col].apply(lambda x: re.sub('(\\d+(\\.\\d+)?)', r' \\1 ', x))\n",
        "\n",
        "\n",
        "    # Lowercase text\n",
        "    def lower_data(self):\n",
        "        self.data[self.norm_col] = self.data[self.col].str.lower()\n",
        "\n",
        "    # Remove Punctuation\n",
        "    def remove_punctuation(self):\n",
        "        self.data[self.norm_col] = self.data[self.norm_col].apply(lambda x: re.sub(r'[^\\w\\s]', ' ', x))\n",
        "\n",
        "    def replace_words_characters(self,x):\n",
        "\n",
        "        x = re.sub(\"don’t|dont|don't\",\"do not\",x)\n",
        "        x = re.sub(\"doesn’t|doesnt\",\"does not\",x)\n",
        "        x = re.sub(\"didn’t|didnt\",\"did not\",x)\n",
        "        x = re.sub(\"i'm|i’m\",\"i am\",x)\n",
        "        x = re.sub(\"fair\",\"fare\",x)\n",
        "        x = re.sub(\"\\\\\\\\n\",\" \",x)\n",
        "\n",
        "        return x\n",
        "\n",
        "   # Replace words\n",
        "    def replace_values(self):\n",
        "        self.data[self.norm_col] = self.data[self.norm_col].apply(lambda x: self.replace_words_characters(x))\n",
        "\n",
        "    # Remove two or more spaces\n",
        "    def remove_multiple_space(self):\n",
        "        #self.data[self.norm_col] = self.data[self.norm_col].apply(lambda x: re.sub(' +', ' ',x))\n",
        "\n",
        "        self.data[self.norm_col] = self.data[self.norm_col].apply(lambda x: \" \".join(x.split()))\n",
        "\n",
        "    # Dropna\n",
        "    def empty_string(self):\n",
        "      self.data = self.data[self.data[self.norm_col]!='']\n",
        "\n",
        "    # Remove 3 character words\n",
        "    def filter_char(self):\n",
        "      self.data[self.norm_col] = self.data[self.norm_col].apply(lambda x: ' '.join([w for w in x.split() if len(w)>2]))\n",
        "      #self.data = self.data[self.data['char_bool']!=True]\n",
        "\n",
        "\n",
        "    def return_data(self):\n",
        "\n",
        "        self.remove_null()\n",
        "\n",
        "        self.lower_data()\n",
        "\n",
        "        self.convert_emoji()\n",
        "\n",
        "        self.replace_values()\n",
        "\n",
        "        self.create_number_string_space()\n",
        "\n",
        "        self.remove_multiple_space()\n",
        "\n",
        "        self.empty_string()\n",
        "\n",
        "        return self.data\n",
        "\n",
        "# Split train and label\n",
        "def split_data(data):\n",
        "  X = data[['normalised']]\n",
        "  y = data[['New_Topic']]\n",
        "  return X,y\n",
        "\n",
        "# Label Encoder\n",
        "def label_encode_decode(train,predict,action):\n",
        "\n",
        "  le = LabelEncoder().fit(train)\n",
        "\n",
        "  if action=='encode':\n",
        "    return le.transform(train)\n",
        "  elif action=='decode':\n",
        "    return le.inverse_transform(predict)\n",
        "\n"
      ],
      "metadata": {
        "id": "FnDb-DK-Hz4o"
      },
      "execution_count": null,
      "outputs": []
    },
    {
      "cell_type": "code",
      "source": [
        "clean_data = English_Preprocess('/content/drive/My Drive/NLP Dash/train_test/courier_csat_train_set.csv','csat_comment','normalised')\n",
        "data  = clean_data.return_data()\n",
        "data\n",
        "X,y = split_data(data)\n",
        "y_encoded = label_encode_decode(y,None,'encode')"
      ],
      "metadata": {
        "colab": {
          "base_uri": "https://localhost:8080/"
        },
        "id": "ywyLQJ6FK9uI",
        "outputId": "263d704a-c1c1-4be3-c44d-3b67dcae3877"
      },
      "execution_count": null,
      "outputs": [
        {
          "output_type": "stream",
          "name": "stderr",
          "text": [
            "/usr/local/lib/python3.10/dist-packages/sklearn/preprocessing/_label.py:99: DataConversionWarning: A column-vector y was passed when a 1d array was expected. Please change the shape of y to (n_samples, ), for example using ravel().\n",
            "  y = column_or_1d(y, warn=True)\n",
            "/usr/local/lib/python3.10/dist-packages/sklearn/preprocessing/_label.py:134: DataConversionWarning: A column-vector y was passed when a 1d array was expected. Please change the shape of y to (n_samples, ), for example using ravel().\n",
            "  y = column_or_1d(y, dtype=self.classes_.dtype, warn=True)\n"
          ]
        }
      ]
    },
    {
      "cell_type": "code",
      "source": [],
      "metadata": {
        "id": "TFw-HXKKMkkX"
      },
      "execution_count": null,
      "outputs": []
    }
  ]
}