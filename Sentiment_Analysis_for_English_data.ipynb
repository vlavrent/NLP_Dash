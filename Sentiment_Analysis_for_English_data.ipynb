{
  "nbformat": 4,
  "nbformat_minor": 0,
  "metadata": {
    "colab": {
      "provenance": [],
      "authorship_tag": "ABX9TyNPC4yA0tkD7e0k0GHLcPQA",
      "include_colab_link": true
    },
    "kernelspec": {
      "name": "python3",
      "display_name": "Python 3"
    },
    "language_info": {
      "name": "python"
    }
  },
  "cells": [
    {
      "cell_type": "markdown",
      "metadata": {
        "id": "view-in-github",
        "colab_type": "text"
      },
      "source": [
        "<a href=\"https://colab.research.google.com/github/vlavrent/NLP_Dash/blob/main/Sentiment_Analysis_for_English_data.ipynb\" target=\"_parent\"><img src=\"https://colab.research.google.com/assets/colab-badge.svg\" alt=\"Open In Colab\"/></a>"
      ]
    },
    {
      "cell_type": "code",
      "execution_count": null,
      "metadata": {
        "id": "BUYLQXZa_9ig"
      },
      "outputs": [],
      "source": []
    },
    {
      "cell_type": "code",
      "source": [
        "import pandas as pd\n",
        "import numpy as np\n",
        "import re\n",
        "import nltk\n",
        "from nltk.corpus import stopwords\n",
        "from sklearn.preprocessing import LabelEncoder\n",
        "from google.colab import drive\n",
        "nltk.download('stopwords')\n",
        "drive.mount('/content/drive')"
      ],
      "metadata": {
        "id": "4sXol1RmACX-",
        "colab": {
          "base_uri": "https://localhost:8080/"
        },
        "outputId": "691c9af7-2a12-46ff-d945-885d1bafe552"
      },
      "execution_count": 8,
      "outputs": [
        {
          "output_type": "stream",
          "name": "stderr",
          "text": [
            "[nltk_data] Downloading package stopwords to /root/nltk_data...\n",
            "[nltk_data]   Unzipping corpora/stopwords.zip.\n"
          ]
        },
        {
          "output_type": "stream",
          "name": "stdout",
          "text": [
            "Mounted at /content/drive\n"
          ]
        }
      ]
    },
    {
      "cell_type": "code",
      "source": [
        "stop = stopwords.words('english')\n",
        "class English_Preprocess():\n",
        "    def __init__(self,data_path,comment_col,normalised_col):\n",
        "        self.path = data_path\n",
        "        self.data = pd.read_csv(self.path,index_col=0)\n",
        "        self.col = comment_col\n",
        "        self.norm_col = normalised_col\n",
        "\n",
        "\n",
        "    # Read data\n",
        "    def read_data(self):\n",
        "        return pd.read_csv(self.path,index_col=0)\n",
        "\n",
        "    # Remove emoji\n",
        "    def remove_emojis(self,text):\n",
        "      emoji_pattern = re.compile(\n",
        "        \"[\"\n",
        "        \"\\U0001F600-\\U0001F64F\"  # emoticons\n",
        "        \"\\U0001F300-\\U0001F5FF\"  # symbols & pictographs\n",
        "        \"\\U0001F680-\\U0001F6FF\"  # transport & map symbols\n",
        "        \"\\U0001F1E0-\\U0001F1FF\"  # flags (iOS)\n",
        "        \"\\U00002702-\\U000027B0\"\n",
        "        \"\\U000024C2-\\U0001F251\"\n",
        "        \"]+\", flags=re.UNICODE)\n",
        "\n",
        "      return emoji_pattern.sub(r'', text)\n",
        "\n",
        "    # Remove emoji per row\n",
        "    def convert_emoji(self):\n",
        "        self.data[self.norm_col] = self.data[self.norm_col].apply(lambda x:  self.remove_emojis(x))\n",
        "        self.data = self.data.reset_index()\n",
        "\n",
        "    # Remove null rows\n",
        "    def remove_null(self):\n",
        "        self.data = self.data[self.data[self.col]!='\\\\N']\n",
        "        self.data = self.data.dropna()\n",
        "\n",
        "    # Add space between numbers and text\n",
        "    def create_number_string_space(self):\n",
        "        self.data[self.norm_col] = self.data[self.norm_col].apply(lambda x: re.sub('\\d{5,}', r' ', x))\n",
        "        self.data[self.norm_col] = self.data[self.norm_col].apply(lambda x: re.sub('i x e', r' ', x))\n",
        "        self.data[self.norm_col] = self.data[self.norm_col].apply(lambda x: re.sub('(\\d+(\\.\\d+)?)', r' \\1 ', x))\n",
        "\n",
        "\n",
        "    # Lowercase text\n",
        "    def lower_data(self):\n",
        "        self.data[self.norm_col] = self.data[self.col].str.lower()\n",
        "\n",
        "    # Remove Punctuation\n",
        "    def remove_punctuation(self):\n",
        "        self.data[self.norm_col] = self.data[self.norm_col].apply(lambda x: re.sub(r'[^\\w\\s]', ' ', x))\n",
        "\n",
        "    def replace_words_characters(self,x):\n",
        "\n",
        "        x = re.sub(\"don’t|dont|don't\",\"do not\",x)\n",
        "        x = re.sub(\"doesn’t|doesnt\",\"does not\",x)\n",
        "        x = re.sub(\"didn’t|didnt\",\"did not\",x)\n",
        "        x = re.sub(\"i'm|i’m\",\"i am\",x)\n",
        "        x = re.sub(\"fair\",\"fare\",x)\n",
        "        x = re.sub(\"\\\\\\\\n\",\" \",x)\n",
        "\n",
        "        return x\n",
        "\n",
        "   # Replace words\n",
        "    def replace_values(self):\n",
        "        self.data[self.norm_col] = self.data[self.norm_col].apply(lambda x: self.replace_words_characters(x))\n",
        "\n",
        "    # Remove two or more spaces\n",
        "    def remove_multiple_space(self):\n",
        "        #self.data[self.norm_col] = self.data[self.norm_col].apply(lambda x: re.sub(' +', ' ',x))\n",
        "\n",
        "        self.data[self.norm_col] = self.data[self.norm_col].apply(lambda x: \" \".join(x.split()))\n",
        "\n",
        "    # Dropna\n",
        "    def empty_string(self):\n",
        "      self.data = self.data[self.data[self.norm_col]!='']\n",
        "\n",
        "    # Remove Punctuation\n",
        "    def remove_punctuation(self):\n",
        "        self.data[self.norm_col] = self.data[self.norm_col].apply(lambda x: re.sub(r'[^\\w\\s]', ' ', x))\n",
        "\n",
        "    # Remove Stopwords\n",
        "    def remove_stopwords(self):\n",
        "      self.data[self.norm_col] = self.data[self.norm_col].apply(lambda x: ' '.join([word for word in x.split() if word not in (stop)]))\n",
        "\n",
        "    # Remove 3 character words\n",
        "    def filter_char(self):\n",
        "      self.data[self.norm_col] = self.data[self.norm_col].apply(lambda x: ' '.join([w for w in x.split() if len(w)>2]))\n",
        "      #self.data = self.data[self.data['char_bool']!=True]\n",
        "\n",
        "\n",
        "    def return_data(self):\n",
        "\n",
        "        self.remove_null()\n",
        "\n",
        "        self.lower_data()\n",
        "\n",
        "        self.convert_emoji()\n",
        "\n",
        "        self.replace_values()\n",
        "\n",
        "        self.create_number_string_space()\n",
        "\n",
        "        self.remove_punctuation()\n",
        "\n",
        "        self.remove_multiple_space()\n",
        "\n",
        "        self.remove_stopwords()\n",
        "\n",
        "        self.empty_string()\n",
        "\n",
        "\n",
        "        return self.data.reset_index()\n",
        "\n",
        "# Split train and label\n",
        "def split_data(data):\n",
        "  X = data[['normalised']]\n",
        "  y = data[['New_Topic']]\n",
        "  return X,y\n",
        "\n",
        "# Define Encoder\n",
        "def encoder(train):\n",
        "  le = LabelEncoder().fit(train)\n",
        "  return le\n",
        "\n",
        "# Label Encoder\n",
        "def label_encode_decode(train,predict,action,le):\n",
        "\n",
        "  if action=='encode':\n",
        "    return le.transform(train)\n",
        "  elif action=='decode':\n",
        "    return le.inverse_transform(predict)\n",
        "\n"
      ],
      "metadata": {
        "id": "tHPp5-zIzSaD"
      },
      "execution_count": 26,
      "outputs": []
    },
    {
      "cell_type": "code",
      "source": [
        "clean_data = English_Preprocess('/content/drive/My Drive/NLP Dash/train_test/courier_csat_train_set_2.csv','csat_comment','normalised')\n",
        "data  = clean_data.return_data()\n",
        "\n",
        "X,y = split_data(data)\n",
        "\n",
        "X_train, X_test, y_train, y_test = train_test_split(X, y, test_size=0.33, random_state=42)\n",
        "\n",
        "\n",
        "vectorizer = TfidfVectorizer()\n",
        "X_train = vectorizer.fit_transform(X_train['normalised'])\n",
        "X_test = vectorizer.transform(X_test['normalised'])\n",
        "\n"
      ],
      "metadata": {
        "id": "-YA4Mb_1zTUd"
      },
      "execution_count": null,
      "outputs": []
    },
    {
      "cell_type": "markdown",
      "source": [
        "<h1>Rating Classification</h1>"
      ],
      "metadata": {
        "id": "--J9MaUCz7V8"
      }
    },
    {
      "cell_type": "code",
      "source": [
        "import pandas as pd\n",
        "\n",
        "data = pd.read_csv('/content/drive/My Drive/NLP Dash/train_test/courier_csat_train_set_2.csv')\n",
        "\n",
        "\n",
        "sentiment = pd.read_csv('/content/drive/My Drive/NLP Dash/Dash/Agent_reviews.csv')\n",
        "\n",
        "sentiment = sentiment[['driver_uuid','feedback_date','Sentiment']]\n",
        "\n",
        "\n",
        "merged_data = pd.merge(data,sentiment, on = ['driver_uuid','feedback_date'], how = 'left')\n",
        "merged_data[['Sentiment']] = merged_data[['Sentiment']].fillna(value='No Label')\n",
        "merged_data\n",
        "merged_data.to_csv('/content/drive/My Drive/NLP Dash/train_test/pre_sent.csv',index=False)\n",
        "\n",
        "\n"
      ],
      "metadata": {
        "id": "_scKdODqz6zD"
      },
      "execution_count": 40,
      "outputs": []
    },
    {
      "cell_type": "code",
      "source": [
        "from nltk.sentiment.vader import SentimentIntensityAnalyzer\n",
        "import nltk\n",
        "nltk.download('vader_lexicon')\n",
        "\n",
        "\n",
        "def negative_data(x):\n",
        "  if x['Sentiment'] == 'No Label' and x['csat_rating']<3:\n",
        "    return 'Negative'\n",
        "  else x\n",
        "\n",
        "clean_data = English_Preprocess('/content/drive/My Drive/NLP Dash/train_test/pre_sent.csv','csat_comment','normalised')\n",
        "data  = clean_data.return_data()\n",
        "\n",
        "data['Sentiment'] = data.apply(lambda x: negative_data(x),axis=1)\n",
        "\n",
        "#data['polarity'] = data['csat_comment'].apply(lambda x: SentimentIntensityAnalyzer().polarity_scores(x))\n",
        "data"
      ],
      "metadata": {
        "colab": {
          "base_uri": "https://localhost:8080/",
          "height": 108
        },
        "id": "-eEZ42zHWgl1",
        "outputId": "1c68885c-b9c4-4427-d433-40dae054792a"
      },
      "execution_count": 43,
      "outputs": [
        {
          "output_type": "error",
          "ename": "SyntaxError",
          "evalue": "expected ':' (<ipython-input-43-792f4b282f8b>, line 9)",
          "traceback": [
            "\u001b[0;36m  File \u001b[0;32m\"<ipython-input-43-792f4b282f8b>\"\u001b[0;36m, line \u001b[0;32m9\u001b[0m\n\u001b[0;31m    else x\u001b[0m\n\u001b[0m         ^\u001b[0m\n\u001b[0;31mSyntaxError\u001b[0m\u001b[0;31m:\u001b[0m expected ':'\n"
          ]
        }
      ]
    },
    {
      "cell_type": "code",
      "source": [],
      "metadata": {
        "id": "6UHS14VRkz6e"
      },
      "execution_count": null,
      "outputs": []
    }
  ]
}